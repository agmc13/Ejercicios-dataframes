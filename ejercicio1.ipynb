{
 "cells": [
  {
   "cell_type": "code",
   "execution_count": 54,
   "metadata": {},
   "outputs": [],
   "source": [
    "import pandas as pd\n",
    "import random\n",
    "from faker import Faker\n",
    "import matplotlib.pyplot as plt"
   ]
  },
  {
   "cell_type": "code",
   "execution_count": 55,
   "metadata": {},
   "outputs": [],
   "source": [
    "class DataFrame:\n",
    "    def __init__(self):\n",
    "        global data\n",
    "        global prueba\n",
    "        global df\n",
    "        global rand\n",
    "        if True:\n",
    "            try:\n",
    "                fake = Faker(\"es_ES\")\n",
    "                df = pd.DataFrame({}, columns=('nombre','email','direccion','telefono'))\n",
    "                rand = random.randrange(25, 50)\n",
    "                for i in range(rand):\n",
    "                    data = [ fake.name(), fake.email(), fake.address(), fake.phone_number()]\n",
    "                    df.loc[i] = [item for item in data]\n",
    "                print(df)\n",
    "            except ValueError:\n",
    "                print('no se ha podido crear el dataframe correctamente')\n",
    "                \n",
    "\n",
    "    def grafica(self):\n",
    "        if True:\n",
    "            try:\n",
    "                fig=plt.figure(figsize=(30,10))#tamaño del canvas que vamos a utilizar.\n",
    "\n",
    "                plt.subplot2grid((2,3),(0,0))\n",
    "                domain = df['email'].str.split(\"@\").str[1]\n",
    "                domain.value_counts().plot(kind='bar', alpha=0.5)\n",
    "                plt.title('dominios de correos mas utilizados')\n",
    "                plt.show()\n",
    "            except ValueError:\n",
    "                print('no se ha podido crear la grafica correctamente')"
   ]
  },
  {
   "cell_type": "code",
   "execution_count": 56,
   "metadata": {},
   "outputs": [
    {
     "name": "stdout",
     "output_type": "stream",
     "text": [
      "                         nombre                                       email  \\\n",
      "0         Marina Esteban Medina                         gabriel47@yahoo.com   \n",
      "1           María Alfaro-Hervás                          xavier25@gmail.com   \n",
      "2               Lucía del Antón                          gmendez@zapata.com   \n",
      "3          Eduardo Pedraza-Royo                         lucia46@alcalde.org   \n",
      "4    Rodrigo González Benavente                        yclavero@hotmail.com   \n",
      "5    Soledad Raquel Barón Comas                            juan74@yahoo.com   \n",
      "6      Jose Angel Guardia Prada                     noeliamontero@yahoo.com   \n",
      "7       Esperanza Iborra Ferrán                         nerea12@hotmail.com   \n",
      "8       Raul Josep Chacón Bonet                  remedios51@monreal-pla.com   \n",
      "9        Martin Asensio Monreal                             luis08@roda.org   \n",
      "10          Alicia Camps-Morera                       gloriapedro@gmail.com   \n",
      "11           Hugo Ribes Gallego                      rodrigoruben@arias.org   \n",
      "12      Sebastian Ugarte Tudela                    castejonmariano@vila.com   \n",
      "13   Montserrat Fuentes Sánchez                       noelia25@villalba.com   \n",
      "14           Alfonso del Alsina                         josep46@hotmail.com   \n",
      "15           Alfonso del Querol                   romanvicente@casanova.com   \n",
      "16        Juan Antonio de Falcó                            rvilla@gmail.com   \n",
      "17               Trinidad Sales                    silviatrillo@hotmail.com   \n",
      "18        Soledad Valle Torrens                     slara@fabra-arregui.biz   \n",
      "19     Jose Luis Castell Arenas                 hernandezsantiago@yahoo.com   \n",
      "20      Juan Carlos Pintor Ruiz                   gonzalovina@escribano.net   \n",
      "21               Teresa Cadenas                         paezjulio@yahoo.com   \n",
      "22          Jose Angel Rey Arce  larreafrancisco-javier@machado-abascal.com   \n",
      "23                 Jesús Porcel                           jaime94@yahoo.com   \n",
      "24        Trinidad Lloret Vives                     vicenta41@caballero.com   \n",
      "25   Albert Mohamed Lago Aranda                rodrigosalamanca@cordoba.biz   \n",
      "26          Natalia Ocaña-Ruano                          selorza@agullo.com   \n",
      "27  Cesar Mario Corominas Anaya                    remediosvillar@gmail.com   \n",
      "28    Marcos Palomar Villalobos                       eduardo62@hotmail.com   \n",
      "29          Manuel Peral Bayona                           raquel47@vina.net   \n",
      "30              Fernando Zabala                     gamezcatalina@gmail.com   \n",
      "31          Felix Terrón Tolosa                            sonia38@mate.org   \n",
      "32         Virginia Marti Aller                            dzamora@sans.com   \n",
      "33          Hugo Corral Nicolau                   agustinmiralles@gmail.com   \n",
      "34           Mariano Hoz Julián                 margaritadavila@hotmail.com   \n",
      "35        Juan Luis Bayo Coello                   pagesjose-ramon@gmail.com   \n",
      "36   Eugenia Balaguer-Casanovas                  jmari@llabres-melendez.com   \n",
      "37   Ángel Josep Nieto Quintana            pontpatricia@guzman-gabaldon.org   \n",
      "38           Marcos Olivera Ros                          asabater@gmail.com   \n",
      "39                  Marcos Grau                         susana19@huerta.com   \n",
      "40      Fernando Novoa Castilla                        matagema@pereira.com   \n",
      "41        Luisa Rosales Pascual                          diegoluz@gmail.com   \n",
      "42          Laura Olivé Alvarez                         ecarreras@ribes.com   \n",
      "43    Iker Carlos Herranz Fabra                         rocaemilia@cobo.com   \n",
      "44       Dolores Solís Castells            colommontserrat@abril-campos.com   \n",
      "45        Óscar Requena Perales                           ydiez@hotmail.com   \n",
      "46                 Jaime de Pou                  saavedraemilia@anglada.biz   \n",
      "47       Esperanza Dueñas Casas                          josefa00@yahoo.com   \n",
      "48             Mario Rius-Acero            virginiamanso@barros-galiano.com   \n",
      "\n",
      "                                            direccion          telefono  \n",
      "0   Callejón de Juan Luis Alcalá 2 Piso 8 \\nCantab...     +34 979621716  \n",
      "1   Calle Cristian Murcia 61 Puerta 0 \\nGirona, 77667     +34 774910116  \n",
      "2   Rambla Purificación Elorza 259 Puerta 8 \\nBurg...     +34 216852930  \n",
      "3       Alameda de Mohamed Cantón 71\\nValencia, 70482      +34156299408  \n",
      "4   Pasaje Ricardo Alberdi 8 Puerta 0 \\nCórdoba, 0...      +34687181071  \n",
      "5          Cañada de Begoña Galindo 14\\nMadrid, 76676     +34 645440335  \n",
      "6             Calle de Celia Grau 960\\nCáceres, 59781  +34 477 33 53 24  \n",
      "7   Calle de Javier Cal 75\\nSanta Cruz de Tenerife...   +34329 70 87 39  \n",
      "8   Calle Sonia Cabanillas 149 Apt. 90 \\nCastellón...   +34 087 316 292  \n",
      "9   Camino Jose Ramon Castejón 1 Puerta 2 \\nAlican...      +34270361190  \n",
      "10  Avenida Victor Manuel Armengol 758 Apt. 80 \\nA...  +34 329 33 10 44  \n",
      "11  Calle de Jose Carlos Jover 51 Piso 2 \\nGuadala...  +34 588 97 27 57  \n",
      "12  Urbanización Aitor Cañellas 26 Puerta 1 \\nMadr...      +34556643521  \n",
      "13  Paseo de María Montoya 1 Piso 6 \\nLas Palmas, ...     +34 900013498  \n",
      "14  Camino de Sonia Bello 680 Puerta 0 \\nAlmería, ...      +34105718629  \n",
      "15   Vial Elisa Echevarría 74 Apt. 25 \\nTeruel, 71134  +34 567 26 81 14  \n",
      "16     Callejón de Mercedes Torrents 862\\nJaén, 35043   +34800 62 73 73  \n",
      "17                 C. Gema Morera 87\\nLa Rioja, 78315    +34772 621 627  \n",
      "18               Paseo Daniela Acero 98\\nSoria, 37138      +34155095898  \n",
      "19      Callejón de Yolanda Fuente 374\\nCuenca, 45975    +34079 469 881  \n",
      "20  Vial Juan Luis Boada 5 Apt. 87 \\nSalamanca, 29556     +34 672979641  \n",
      "21       Cañada de Encarnacion Campoy 22\\nLugo, 67382   +34 243 466 037  \n",
      "22  Camino Virginia Valbuena 6 Apt. 90 \\nTeruel, 8...    +34546 686 400  \n",
      "23        Cañada de Cesar Cuenca 15\\nGuipúzcoa, 04777     +34 064057748  \n",
      "24     Urbanización Alejandra Nebot 46\\nZamora, 53326   +34 877 002 239  \n",
      "25  Pasadizo de Juan José Marín 329\\nSalamanca, 57869    +34128 597 409  \n",
      "26  Calle de Sebastian Díaz 82 Apt. 63 \\nValladoli...    +34590 999 661  \n",
      "27  Callejón de Felix Villena 41 Piso 5 \\nSanta Cr...    +34255 253 375  \n",
      "28     Paseo Francisco Javier Molins 9\\nGirona, 45661    +34788 435 375  \n",
      "29  Via de Santiago Tomás 88 Apt. 20 \\nAlicante, 8...      +34413381901  \n",
      "30  Pasadizo de Alberto Mateu 49 Apt. 50 \\nPalenci...   +34 016 372 607  \n",
      "31  Cañada Ismael Perez 2 Puerta 5 \\nPontevedra, 5...    +34924 060 725  \n",
      "32  Callejón Alex Cuervo 9 Puerta 0 \\nTarragona, 5...      +34590223947  \n",
      "33       Callejón de Carlos Alarcón 71\\nCuenca, 94989    +34960 727 427  \n",
      "34                    C. Sara Bello 81\\nCiudad, 29580     +34 524249717  \n",
      "35         Vial de Dolores Chaves 9\\nSalamanca, 46708      +34640418415  \n",
      "36             C. de Susana Casanova 1\\nHuesca, 01756      +34457885905  \n",
      "37           Acceso de Elisa Tolosa 68\\nToledo, 95184      +34311983949  \n",
      "38  Callejón de Asunción Urrutia 10 Piso 1 \\nSanta...     +34 703613209  \n",
      "39           C. de Yolanda Azorin 6\\nBarcelona, 61487      +34371523635  \n",
      "40    Vial Carmen Tello 1 Puerta 1 \\nGuipúzcoa, 99886    +34934 526 521  \n",
      "41  Callejón Sergio Alcolea 77 Puerta 6 \\nMadrid, ...    +34215 101 077  \n",
      "42          Camino de Vanesa Tamayo 28\\nMadrid, 31796  +34 513 03 54 21  \n",
      "43             Cuesta Verónica Batlle 6\\nCádiz, 89776      +34494037221  \n",
      "44  Avenida Lourdes Ariza 83 Apt. 78 \\nTarragona, ...    +34233 728 970  \n",
      "45            Cuesta Irene Ávila 71\\nCastellón, 47447   +34697 56 72 91  \n",
      "46    Alameda de Daniel Aparicio 1\\nValladolid, 09728     +34 503243763  \n",
      "47     Pasaje Claudia Martí 64 Piso 0 \\nBurgos, 17892   +34 138 441 792  \n",
      "48  Plaza de Jose Francisco Roig 837 Piso 6 \\nBale...  +34 343 00 72 67  \n"
     ]
    }
   ],
   "source": [
    "dato = DataFrame()"
   ]
  },
  {
   "cell_type": "code",
   "execution_count": 53,
   "metadata": {},
   "outputs": [
    {
     "data": {
      "image/png": "[encoded data removed]",
      "text/plain": [
       "<Figure size 2160x720 with 1 Axes>"
      ]
     },
     "metadata": {},
     "output_type": "display_data"
    }
   ],
   "source": [
    "dato.grafica()"
   ]
  },
  {
   "cell_type": "code",
   "execution_count": null,
   "metadata": {},
   "outputs": [],
   "source": []
  }
 ],
 "metadata": {
  "kernelspec": {
   "display_name": "Python 3",
   "language": "python",
   "name": "python3"
  },
  "language_info": {
   "codemirror_mode": {
    "name": "ipython",
    "version": 3
   },
   "file_extension": ".py",
   "mimetype": "text/x-python",
   "name": "python",
   "nbconvert_exporter": "python",
   "pygments_lexer": "ipython3",
   "version": "3.6.5"
  }
 },
 "nbformat": 4,
 "nbformat_minor": 2
}
