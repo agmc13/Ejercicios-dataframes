{
 "cells": [
  {
   "cell_type": "code",
   "execution_count": 1,
   "metadata": {},
   "outputs": [],
   "source": [
    "import pandas as pd\n",
    "import random\n",
    "import re\n",
    "from faker import Faker\n",
    "import matplotlib.pyplot as plt"
   ]
  },
  {
   "cell_type": "code",
   "execution_count": 47,
   "metadata": {},
   "outputs": [],
   "source": [
    "class DataFrame:\n",
    "    def datos(self):\n",
    "        global data\n",
    "        global prueba\n",
    "        global df\n",
    "        global rand\n",
    "        if True:\n",
    "            try:\n",
    "                fake = Faker(\"es_ES\")\n",
    "                df = pd.DataFrame({}, columns=('nombre','email','direccion','telefono'))\n",
    "                rand = random.randrange(25, 50)\n",
    "                for i in range(rand):\n",
    "                    data = [ fake.name(), fake.email(), fake.address(), fake.phone_number()]\n",
    "                    df.loc[i] = [item for item in data]\n",
    "                print(df)\n",
    "            except ValueError:\n",
    "                print('no se ha podido crear el dataframe correctamente')\n",
    "                \n",
    "\n",
    "    def grafica(self):\n",
    "        if True:\n",
    "            try:\n",
    "                fig=plt.figure(figsize=(30,10))#tamaño del canvas que vamos a utilizar.\n",
    "\n",
    "                plt.subplot2grid((2,3),(0,0))\n",
    "                domain = df['email'].str.split(\"@\").str[1]\n",
    "                domain.value_counts().plot(kind='bar', alpha=0.5)\n",
    "                plt.title('dominios de correos mas utilizados')\n",
    "                plt.show()\n",
    "            except ValueError:\n",
    "                print('no se ha podido crear la grafica correctamente')"
   ]
  },
  {
   "cell_type": "code",
   "execution_count": 48,
   "metadata": {},
   "outputs": [
    {
     "name": "stdout",
     "output_type": "stream",
     "text": [
      "                            nombre                            email  \\\n",
      "0           Antonia Fuentes Millán            joliveras@hotmail.com   \n",
      "1             Jose Manuel Calderón              pcabrero@yanez.info   \n",
      "2                Anna Navarro Losa        milagrosvalera@falcon.com   \n",
      "3          Victoria Collado Ribera       borregojuan-luis@yahoo.com   \n",
      "4    Jose Manuel Alberto-Cervantes       estevezlorenzo@hotmail.com   \n",
      "5            Agustín Cuéllar-Ruano         brionesjulia@sabater.com   \n",
      "6               Miguel Giner Roura        nsimo@gracia-portillo.biz   \n",
      "7   Victoria Adriana Ferrán Oliver               rafael20@yahoo.com   \n",
      "8             Marina Botella Agudo         chamorrosara@urrutia.biz   \n",
      "9      Mónica Mónica Mateu Guitart                snarvaez@real.com   \n",
      "10                 Rosario Acevedo              luisvillar@mayo.com   \n",
      "11      Juan Carlos Campoy Quevedo      jose-francisco64@canton.com   \n",
      "12           Carolina Estévez Baró               pedro69@ibarra.com   \n",
      "13               Mónica Checa Jaén   borrellencarnacion@hotmail.com   \n",
      "14             Nuria Ballester Gil               vanesa28@yahoo.com   \n",
      "15                 Gema Niño Gómez                pfont@hotmail.com   \n",
      "16             Rafael Valdés-Peiró         adrianamorante@gmail.com   \n",
      "17            Samuel Arnau-Asensio                  mar38@gomez.com   \n",
      "18              Elisa Giner-Tolosa                diego42@yahoo.com   \n",
      "19           Enrique Aliaga Bernal        gonzalezjosep@casares.biz   \n",
      "20              Irene Macías-Sainz        margaritahierro@yahoo.com   \n",
      "21              Vicenta Tomé-Anaya  jose-ignacio32@jaen-peralta.biz   \n",
      "22                  Carmen Guillén                matasraul@mur.com   \n",
      "23              Martin Amat Quirós              nbenitez@blanes.com   \n",
      "24       Verónica Manuel Sacristán            zbermudez@sanchez.com   \n",
      "25             Ramon Moll Guerrero                 procha@carro.com   \n",
      "\n",
      "                                            direccion          telefono  \n",
      "0    Urbanización Jose Ignacio Benet 6\\nLleida, 98395  +34 010 54 96 44  \n",
      "1     Alameda de Teresa Gallardo 21\\nSalamanca, 11280  +34 143 75 53 19  \n",
      "2   Glorieta de Patricia Sanabria 57 Piso 6 \\nHues...      +34964991131  \n",
      "3           Plaza de Emilia Bermúdez 372\\nJaén, 89010    +34584 710 961  \n",
      "4              Via Guillermo Valencia 2\\nCeuta, 44480    +34309 712 260  \n",
      "5      Ronda Jose Torrens 70 Apt. 06 \\nAlmería, 43875      +34402484397  \n",
      "6   Paseo de Alba Osorio 8 Puerta 5 \\nCantabria, 6...   +34703 68 14 31  \n",
      "7   Rambla de Patricia Castellanos 490\\nMelilla, 2...   +34 054 329 663  \n",
      "8          Rambla Salvador Quiroga 966\\nCuenca, 42227  +34 402 55 36 93  \n",
      "9                  Plaza Antonia Rico 95\\nLugo, 41682   +34 447 100 324  \n",
      "10      Pasadizo de Julio Zapata 26\\nLa Coruña, 12931     +34 762966022  \n",
      "11      Pasaje de Miguel Alarcón 37\\nGuipúzcoa, 25576  +34 392 14 84 57  \n",
      "12           Calle de Victor Ibañez 10\\nMálaga, 07346   +34 043 918 258  \n",
      "13         Pasadizo de Santiago Navas 6\\nSoria, 88385   +34 777 569 655  \n",
      "14     C. de Julia Segarra 50 Apt. 92 \\nBurgos, 55939   +34 763 464 995  \n",
      "15  Vial de Juan Carlos Garrido 75\\nPontevedra, 68136  +34 783 07 09 62  \n",
      "16  Avenida de Francisco Javier Cerdá 8\\nCastellón...  +34 930 18 35 50  \n",
      "17  Plaza de Juan Carlos Tomás 85 Apt. 56 \\nBurgos...    +34619 617 050  \n",
      "18     Pasaje de Alvaro Bustamante 90\\nSegovia, 84338  +34 670 93 03 91  \n",
      "19         Calle de Montserrat Osuna 39\\nÁlava, 82991     +34 508058320  \n",
      "20  Urbanización de Patricia Pastor 69\\nCastellón,...   +34 791 264 233  \n",
      "21        C. Juan Francisco Esteve 9\\nBaleares, 65234      +34062800406  \n",
      "22        Acceso de Ramon Céspedes 732\\nTeruel, 24620    +34398 237 304  \n",
      "23              Cuesta Gloria Cobos 6\\nSegovia, 41864     +34 830300313  \n",
      "24  Glorieta Alberto Vicens 9 Puerta 5 \\nSevilla, ...   +34716 34 76 11  \n",
      "25         Cuesta Juan José Nebot 78\\nLa Rioja, 93741      +34376288215  \n"
     ]
    }
   ],
   "source": [
    "dato = DataFrame()\n",
    "dato.datos()"
   ]
  },
  {
   "cell_type": "code",
   "execution_count": 49,
   "metadata": {},
   "outputs": [
    {
     "data": {
      "image/png": "[encoded data removed]",
      "text/plain": [
       "<Figure size 2160x720 with 1 Axes>"
      ]
     },
     "metadata": {},
     "output_type": "display_data"
    }
   ],
   "source": [
    "dato.grafica()"
   ]
  },
  {
   "cell_type": "code",
   "execution_count": null,
   "metadata": {},
   "outputs": [],
   "source": []
  }
 ],
 "metadata": {
  "kernelspec": {
   "display_name": "Python 3",
   "language": "python",
   "name": "python3"
  },
  "language_info": {
   "codemirror_mode": {
    "name": "ipython",
    "version": 3
   },
   "file_extension": ".py",
   "mimetype": "text/x-python",
   "name": "python",
   "nbconvert_exporter": "python",
   "pygments_lexer": "ipython3",
   "version": "3.6.5"
  }
 },
 "nbformat": 4,
 "nbformat_minor": 2
}
