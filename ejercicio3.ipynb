{
 "cells": [
  {
   "cell_type": "code",
   "execution_count": 16,
   "metadata": {},
   "outputs": [],
   "source": [
    "import pandas as pd\n",
    "import matplotlib.pyplot as plt"
   ]
  },
  {
   "cell_type": "code",
   "execution_count": 68,
   "metadata": {},
   "outputs": [],
   "source": [
    "class DataFrame:\n",
    "    def __init__(self):\n",
    "        global df\n",
    "        if True:\n",
    "            try:\n",
    "                df= pd.read_csv('ejercicio3.csv',index_col=0, parse_dates=True, thousands=r',', sep=';')\n",
    "                print (df)\n",
    "            except ValueError:\n",
    "                print('no se ha podido crear el dataframe correctamente')\n",
    "    def grafica(self):\n",
    "        if True:\n",
    "            try:\n",
    "                df.groupby(['Articulo','Zona'])['Precio','Salario'].size().unstack().plot(kind='bar',stacked=True)\n",
    "                plt.show()\n",
    "            except ValueError:\n",
    "                print('no se ha podido crear la grafica correctamente')"
   ]
  },
  {
   "cell_type": "code",
   "execution_count": 69,
   "metadata": {},
   "outputs": [
    {
     "name": "stdout",
     "output_type": "stream",
     "text": [
      "                   Articulo  Precio      Zona  Salario\n",
      "Comercio                                              \n",
      "Mercadona              agua    0.35     norte      660\n",
      "Mercadona              agua    0.40    zaidin      700\n",
      "Carrefour             pasta    0.45     chana      700\n",
      "Supermercados dani   azucar    0.36     norte      660\n",
      "coviran               arroz    0.62    centro      980\n",
      "Mercadona             arroz    0.79     norte      600\n",
      "alcampo               pasta    0.52     chana      700\n",
      "carrefour             leche    0.84    zaidin      700\n",
      "coviran               pasta    0.55  maracena      730\n",
      "supermercados dani    arroz    0.62     norte      660\n",
      "alcampo              azucar    0.87    centro      980\n",
      "coviran               leche    0.98    zaidin      700\n",
      "carrefour              agua    0.29  maracena      730\n",
      "Supermercados dani    leche    0.64     chana      700\n",
      "Mercadona             leche    0.87  maracena      730\n",
      "alcampo              huevos    0.92     chana      700\n",
      "Carrefour            huevos    0.84     norte      660\n",
      "coviran              azucar    0.58    zaidin      700\n",
      "Supermercados dani   huevos    0.68    centro      980\n"
     ]
    }
   ],
   "source": [
    "dato = DataFrame()"
   ]
  },
  {
   "cell_type": "code",
   "execution_count": 70,
   "metadata": {},
   "outputs": [
    {
     "data": {
      "image/png": "[encoded data removed]",
      "text/plain": [
       "<Figure size 432x288 with 1 Axes>"
      ]
     },
     "metadata": {},
     "output_type": "display_data"
    }
   ],
   "source": [
    "dato.grafica()"
   ]
  },
  {
   "cell_type": "code",
   "execution_count": null,
   "metadata": {},
   "outputs": [],
   "source": []
  }
 ],
 "metadata": {
  "kernelspec": {
   "display_name": "Python 3",
   "language": "python",
   "name": "python3"
  },
  "language_info": {
   "codemirror_mode": {
    "name": "ipython",
    "version": 3
   },
   "file_extension": ".py",
   "mimetype": "text/x-python",
   "name": "python",
   "nbconvert_exporter": "python",
   "pygments_lexer": "ipython3",
   "version": "3.6.5"
  }
 },
 "nbformat": 4,
 "nbformat_minor": 2
}
